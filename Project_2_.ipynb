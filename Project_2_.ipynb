{
  "nbformat": 4,
  "nbformat_minor": 0,
  "metadata": {
    "colab": {
      "provenance": [],
      "collapsed_sections": [],
      "include_colab_link": true
    },
    "kernelspec": {
      "name": "python3",
      "display_name": "Python 3"
    },
    "language_info": {
      "name": "python"
    }
  },
  "cells": [
    {
      "cell_type": "markdown",
      "metadata": {
        "id": "view-in-github",
        "colab_type": "text"
      },
      "source": [
        "<a href=\"https://colab.research.google.com/github/martabarbosa1/Project2_Toys-and-Models/blob/main/Project_2_.ipynb\" target=\"_parent\"><img src=\"https://colab.research.google.com/assets/colab-badge.svg\" alt=\"Open In Colab\"/></a>"
      ]
    },
    {
      "cell_type": "markdown",
      "source": [
        "Wild adventurers"
      ],
      "metadata": {
        "id": "lt0lBf_V0DTC"
      }
    },
    {
      "cell_type": "markdown",
      "source": [
        "# **Connection**"
      ],
      "metadata": {
        "id": "Zc-tFDQVN_FY"
      }
    },
    {
      "cell_type": "code",
      "source": [
        "!pip install mysql-connector"
      ],
      "metadata": {
        "colab": {
          "base_uri": "https://localhost:8080/"
        },
        "id": "QuI8Ez5pOGuW",
        "outputId": "a6a7fb32-3f9a-48b8-c6c6-10208061c619"
      },
      "execution_count": null,
      "outputs": [
        {
          "output_type": "stream",
          "name": "stdout",
          "text": [
            "Looking in indexes: https://pypi.org/simple, https://us-python.pkg.dev/colab-wheels/public/simple/\n",
            "Requirement already satisfied: mysql-connector in /usr/local/lib/python3.7/dist-packages (2.2.9)\n"
          ]
        }
      ]
    },
    {
      "cell_type": "code",
      "source": [
        "# import libraries\n",
        "\n",
        "import pandas as pd\n",
        "import matplotlib.pyplot as plt\n",
        "\n",
        "import datetime\n",
        "import mysql.connector \n",
        "\n",
        "import seaborn as sns\n",
        "\n",
        "\n"
      ],
      "metadata": {
        "id": "m_Mk9H3xOPlo"
      },
      "execution_count": null,
      "outputs": []
    },
    {
      "cell_type": "code",
      "source": [
        "# conn = 'mysql://USER:PW@DBHOST/DB'\n",
        "connection=mysql.connector.connect(user = 'toyscie', password = 'WILD4Rdata!', host = '51.68.18.102', port = '23456', database = 'toys_and_models')\n",
        "#sql_engine=sql.create_engine(connection)"
      ],
      "metadata": {
        "id": "PgPYgMp2S2NP"
      },
      "execution_count": null,
      "outputs": []
    },
    {
      "cell_type": "markdown",
      "source": [
        "#**SQL Queries and Vizualization**"
      ],
      "metadata": {
        "id": "ixcMoS9DbZ-s"
      }
    },
    {
      "cell_type": "markdown",
      "source": [
        "##Query Sales:The number of products sold by category and by month, with comparison and rate of change compared to the same month of the previous year"
      ],
      "metadata": {
        "id": "TZzwBrR0PbBM"
      }
    },
    {
      "cell_type": "code",
      "source": [
        "query_sales= '''WITH productline_quantity AS (\n",
        "SELECT productline, YEAR(orderDate) order_year, SUM(quantityordered) order_quantity, MONTH(orderDate) order_month\n",
        "FROM orders\n",
        "INNER JOIN orderdetails USING (orderNumber)\n",
        "INNER JOIN products USING (productCode)\n",
        "GROUP BY productline, order_year, order_month\n",
        ")\n",
        "SELECT productline, order_year, order_month, order_quantity,\n",
        "LAG(order_quantity, 1) OVER (\n",
        "PARTITION BY productLine, order_month\n",
        "ORDER BY order_month, order_year) as prev_year_order_quantity, (order_quantity * 100)/lag(order_quantity, 1) OVER (\n",
        "        PARTITION BY productLine, order_month\n",
        "        ORDER BY order_month, order_year) as ratechange\n",
        "FROM\n",
        "    productline_quantity'''\n",
        "\n",
        "    "
      ],
      "metadata": {
        "id": "TAiTFHnORPro"
      },
      "execution_count": null,
      "outputs": []
    },
    {
      "cell_type": "code",
      "source": [
        "df_sales = pd.read_sql(query_sales, con=connection)\n",
        "df_sales.head()"
      ],
      "metadata": {
        "colab": {
          "base_uri": "https://localhost:8080/",
          "height": 206
        },
        "id": "qX0jXtaGRZsw",
        "outputId": "601adeeb-e74f-4ae8-9aaf-e5a4e3cc6e7b"
      },
      "execution_count": null,
      "outputs": [
        {
          "output_type": "execute_result",
          "data": {
            "text/plain": [
              "    productline  order_year  order_month  order_quantity  \\\n",
              "0  Classic Cars        2021            1           587.0   \n",
              "1  Classic Cars        2022            1          1516.0   \n",
              "2  Classic Cars        2021            2           185.0   \n",
              "3  Classic Cars        2022            2          1825.0   \n",
              "4  Classic Cars        2021            3          1139.0   \n",
              "\n",
              "   prev_year_order_quantity  ratechange  \n",
              "0                       NaN         NaN  \n",
              "1                     587.0    258.2624  \n",
              "2                       NaN         NaN  \n",
              "3                     185.0    986.4865  \n",
              "4                       NaN         NaN  "
            ],
            "text/html": [
              "\n",
              "  <div id=\"df-1925823a-a056-4c85-8980-fa3957aba67b\">\n",
              "    <div class=\"colab-df-container\">\n",
              "      <div>\n",
              "<style scoped>\n",
              "    .dataframe tbody tr th:only-of-type {\n",
              "        vertical-align: middle;\n",
              "    }\n",
              "\n",
              "    .dataframe tbody tr th {\n",
              "        vertical-align: top;\n",
              "    }\n",
              "\n",
              "    .dataframe thead th {\n",
              "        text-align: right;\n",
              "    }\n",
              "</style>\n",
              "<table border=\"1\" class=\"dataframe\">\n",
              "  <thead>\n",
              "    <tr style=\"text-align: right;\">\n",
              "      <th></th>\n",
              "      <th>productline</th>\n",
              "      <th>order_year</th>\n",
              "      <th>order_month</th>\n",
              "      <th>order_quantity</th>\n",
              "      <th>prev_year_order_quantity</th>\n",
              "      <th>ratechange</th>\n",
              "    </tr>\n",
              "  </thead>\n",
              "  <tbody>\n",
              "    <tr>\n",
              "      <th>0</th>\n",
              "      <td>Classic Cars</td>\n",
              "      <td>2021</td>\n",
              "      <td>1</td>\n",
              "      <td>587.0</td>\n",
              "      <td>NaN</td>\n",
              "      <td>NaN</td>\n",
              "    </tr>\n",
              "    <tr>\n",
              "      <th>1</th>\n",
              "      <td>Classic Cars</td>\n",
              "      <td>2022</td>\n",
              "      <td>1</td>\n",
              "      <td>1516.0</td>\n",
              "      <td>587.0</td>\n",
              "      <td>258.2624</td>\n",
              "    </tr>\n",
              "    <tr>\n",
              "      <th>2</th>\n",
              "      <td>Classic Cars</td>\n",
              "      <td>2021</td>\n",
              "      <td>2</td>\n",
              "      <td>185.0</td>\n",
              "      <td>NaN</td>\n",
              "      <td>NaN</td>\n",
              "    </tr>\n",
              "    <tr>\n",
              "      <th>3</th>\n",
              "      <td>Classic Cars</td>\n",
              "      <td>2022</td>\n",
              "      <td>2</td>\n",
              "      <td>1825.0</td>\n",
              "      <td>185.0</td>\n",
              "      <td>986.4865</td>\n",
              "    </tr>\n",
              "    <tr>\n",
              "      <th>4</th>\n",
              "      <td>Classic Cars</td>\n",
              "      <td>2021</td>\n",
              "      <td>3</td>\n",
              "      <td>1139.0</td>\n",
              "      <td>NaN</td>\n",
              "      <td>NaN</td>\n",
              "    </tr>\n",
              "  </tbody>\n",
              "</table>\n",
              "</div>\n",
              "      <button class=\"colab-df-convert\" onclick=\"convertToInteractive('df-1925823a-a056-4c85-8980-fa3957aba67b')\"\n",
              "              title=\"Convert this dataframe to an interactive table.\"\n",
              "              style=\"display:none;\">\n",
              "        \n",
              "  <svg xmlns=\"http://www.w3.org/2000/svg\" height=\"24px\"viewBox=\"0 0 24 24\"\n",
              "       width=\"24px\">\n",
              "    <path d=\"M0 0h24v24H0V0z\" fill=\"none\"/>\n",
              "    <path d=\"M18.56 5.44l.94 2.06.94-2.06 2.06-.94-2.06-.94-.94-2.06-.94 2.06-2.06.94zm-11 1L8.5 8.5l.94-2.06 2.06-.94-2.06-.94L8.5 2.5l-.94 2.06-2.06.94zm10 10l.94 2.06.94-2.06 2.06-.94-2.06-.94-.94-2.06-.94 2.06-2.06.94z\"/><path d=\"M17.41 7.96l-1.37-1.37c-.4-.4-.92-.59-1.43-.59-.52 0-1.04.2-1.43.59L10.3 9.45l-7.72 7.72c-.78.78-.78 2.05 0 2.83L4 21.41c.39.39.9.59 1.41.59.51 0 1.02-.2 1.41-.59l7.78-7.78 2.81-2.81c.8-.78.8-2.07 0-2.86zM5.41 20L4 18.59l7.72-7.72 1.47 1.35L5.41 20z\"/>\n",
              "  </svg>\n",
              "      </button>\n",
              "      \n",
              "  <style>\n",
              "    .colab-df-container {\n",
              "      display:flex;\n",
              "      flex-wrap:wrap;\n",
              "      gap: 12px;\n",
              "    }\n",
              "\n",
              "    .colab-df-convert {\n",
              "      background-color: #E8F0FE;\n",
              "      border: none;\n",
              "      border-radius: 50%;\n",
              "      cursor: pointer;\n",
              "      display: none;\n",
              "      fill: #1967D2;\n",
              "      height: 32px;\n",
              "      padding: 0 0 0 0;\n",
              "      width: 32px;\n",
              "    }\n",
              "\n",
              "    .colab-df-convert:hover {\n",
              "      background-color: #E2EBFA;\n",
              "      box-shadow: 0px 1px 2px rgba(60, 64, 67, 0.3), 0px 1px 3px 1px rgba(60, 64, 67, 0.15);\n",
              "      fill: #174EA6;\n",
              "    }\n",
              "\n",
              "    [theme=dark] .colab-df-convert {\n",
              "      background-color: #3B4455;\n",
              "      fill: #D2E3FC;\n",
              "    }\n",
              "\n",
              "    [theme=dark] .colab-df-convert:hover {\n",
              "      background-color: #434B5C;\n",
              "      box-shadow: 0px 1px 3px 1px rgba(0, 0, 0, 0.15);\n",
              "      filter: drop-shadow(0px 1px 2px rgba(0, 0, 0, 0.3));\n",
              "      fill: #FFFFFF;\n",
              "    }\n",
              "  </style>\n",
              "\n",
              "      <script>\n",
              "        const buttonEl =\n",
              "          document.querySelector('#df-1925823a-a056-4c85-8980-fa3957aba67b button.colab-df-convert');\n",
              "        buttonEl.style.display =\n",
              "          google.colab.kernel.accessAllowed ? 'block' : 'none';\n",
              "\n",
              "        async function convertToInteractive(key) {\n",
              "          const element = document.querySelector('#df-1925823a-a056-4c85-8980-fa3957aba67b');\n",
              "          const dataTable =\n",
              "            await google.colab.kernel.invokeFunction('convertToInteractive',\n",
              "                                                     [key], {});\n",
              "          if (!dataTable) return;\n",
              "\n",
              "          const docLinkHtml = 'Like what you see? Visit the ' +\n",
              "            '<a target=\"_blank\" href=https://colab.research.google.com/notebooks/data_table.ipynb>data table notebook</a>'\n",
              "            + ' to learn more about interactive tables.';\n",
              "          element.innerHTML = '';\n",
              "          dataTable['output_type'] = 'display_data';\n",
              "          await google.colab.output.renderOutput(dataTable, element);\n",
              "          const docLink = document.createElement('div');\n",
              "          docLink.innerHTML = docLinkHtml;\n",
              "          element.appendChild(docLink);\n",
              "        }\n",
              "      </script>\n",
              "    </div>\n",
              "  </div>\n",
              "  "
            ]
          },
          "metadata": {},
          "execution_count": 93
        }
      ]
    },
    {
      "cell_type": "code",
      "source": [
        "fig, axes = plt.subplots(figsize=(12,8))\n",
        "sns.barplot(data=df_sales, x=\"order_month\", y=\"order_quantity\", hue=\"order_year\", ci=None).set(title='# products by month')\n",
        "axes.set_xlabel(\"Month\")\n",
        "axes.set_ylabel(\"# orders\")\n",
        "axes.legend(title=\"Year: \")"
      ],
      "metadata": {
        "colab": {
          "base_uri": "https://localhost:8080/",
          "height": 530
        },
        "id": "xnOtsatpcY7X",
        "outputId": "3f4ee01b-84ec-4aae-fea6-2562f46bd688"
      },
      "execution_count": null,
      "outputs": [
        {
          "output_type": "execute_result",
          "data": {
            "text/plain": [
              "<matplotlib.legend.Legend at 0x7eff34f0a210>"
            ]
          },
          "metadata": {},
          "execution_count": 94
        },
        {
          "output_type": "display_data",
          "data": {
            "text/plain": [
              "<Figure size 864x576 with 1 Axes>"
            ],
            "image/png": "[encoded data removed]"
          },
          "metadata": {
            "needs_background": "light"
          }
        }
      ]
    },
    {
      "cell_type": "code",
      "source": [
        "fig, axes = plt.subplots(figsize=(12,8))\n",
        "sns.barplot(data=df_sales, x=\"order_month\", y=\"ratechange\", hue=\"order_year\", ci=None).set(title='Rate of change')\n",
        "axes.set_xlabel(\"Month\")\n",
        "axes.set_ylabel(\"Rate of change (%)\")\n",
        "axes.legend(title=\"Year: \")"
      ],
      "metadata": {
        "colab": {
          "base_uri": "https://localhost:8080/",
          "height": 530
        },
        "id": "tW_J34HMeeO2",
        "outputId": "de509aec-a2fb-4e42-87be-2b14db27fd76"
      },
      "execution_count": null,
      "outputs": [
        {
          "output_type": "execute_result",
          "data": {
            "text/plain": [
              "<matplotlib.legend.Legend at 0x7eff34d9df90>"
            ]
          },
          "metadata": {},
          "execution_count": 95
        },
        {
          "output_type": "display_data",
          "data": {
            "text/plain": [
              "<Figure size 864x576 with 1 Axes>"
            ],
            "image/png": "[encoded data removed]"
          },
          "metadata": {
            "needs_background": "light"
          }
        }
      ]
    },
    {
      "cell_type": "code",
      "source": [
        "fig, axes = plt.subplots(figsize=(12,8))\n",
        "sns.barplot(data=df_sales, x=\"productline\", y=\"order_quantity\", hue=\"order_year\", ci=None).set(title='# products by category')\n",
        "axes.set_xlabel(\"Categories\")\n",
        "axes.set_ylabel(\"# orders\")\n",
        "axes.legend(title=\"Year: \")"
      ],
      "metadata": {
        "colab": {
          "base_uri": "https://localhost:8080/",
          "height": 530
        },
        "id": "h1TFWLGke-l-",
        "outputId": "cf1f12f8-f5c4-44de-e974-42cd816b9991"
      },
      "execution_count": null,
      "outputs": [
        {
          "output_type": "execute_result",
          "data": {
            "text/plain": [
              "<matplotlib.legend.Legend at 0x7eff34d37610>"
            ]
          },
          "metadata": {},
          "execution_count": 96
        },
        {
          "output_type": "display_data",
          "data": {
            "text/plain": [
              "<Figure size 864x576 with 1 Axes>"
            ],
            "image/png": "[encoded data removed]"
          },
          "metadata": {
            "needs_background": "light"
          }
        }
      ]
    },
    {
      "cell_type": "markdown",
      "source": [
        "##Query Finances: The turnover of the orders of the last two months by country"
      ],
      "metadata": {
        "id": "-JMb11qCSdiX"
      }
    },
    {
      "cell_type": "code",
      "source": [
        "query_finances_to='''select country, sum(priceeach*quantityordered) as turnover\n",
        "from orders o\n",
        "join orderdetails od on od.ordernumber=o.ordernumber\n",
        "join customers c on c.customernumber=o.customernumber\n",
        "WHERE orderdate >= DATE_FORMAT(CURDATE(), '%Y-%m-01') - INTERVAL 2 MONTH\n",
        "Group by country\n",
        "order by turnover'''"
      ],
      "metadata": {
        "id": "IRND58lLSleJ"
      },
      "execution_count": null,
      "outputs": []
    },
    {
      "cell_type": "code",
      "source": [
        "df_finances_to = pd.read_sql(query_finances_to, con=connection)\n",
        "df_finances_to.head(7)"
      ],
      "metadata": {
        "colab": {
          "base_uri": "https://localhost:8080/",
          "height": 269
        },
        "id": "GmJ6Ba0-VBf9",
        "outputId": "63442fe7-e7f2-4a23-a630-75fc5066d0c6"
      },
      "execution_count": null,
      "outputs": [
        {
          "output_type": "execute_result",
          "data": {
            "text/plain": [
              "     country   turnover\n",
              "0    Belgium   14379.90\n",
              "1      Japan   33967.73\n",
              "2  Australia   48516.09\n",
              "3     France   51358.23\n",
              "4      Spain   83314.60\n",
              "5    Finland  116158.76\n",
              "6        USA  218320.52"
            ],
            "text/html": [
              "\n",
              "  <div id=\"df-fffa7d96-87ae-4999-8023-87a7d6e5446b\">\n",
              "    <div class=\"colab-df-container\">\n",
              "      <div>\n",
              "<style scoped>\n",
              "    .dataframe tbody tr th:only-of-type {\n",
              "        vertical-align: middle;\n",
              "    }\n",
              "\n",
              "    .dataframe tbody tr th {\n",
              "        vertical-align: top;\n",
              "    }\n",
              "\n",
              "    .dataframe thead th {\n",
              "        text-align: right;\n",
              "    }\n",
              "</style>\n",
              "<table border=\"1\" class=\"dataframe\">\n",
              "  <thead>\n",
              "    <tr style=\"text-align: right;\">\n",
              "      <th></th>\n",
              "      <th>country</th>\n",
              "      <th>turnover</th>\n",
              "    </tr>\n",
              "  </thead>\n",
              "  <tbody>\n",
              "    <tr>\n",
              "      <th>0</th>\n",
              "      <td>Belgium</td>\n",
              "      <td>14379.90</td>\n",
              "    </tr>\n",
              "    <tr>\n",
              "      <th>1</th>\n",
              "      <td>Japan</td>\n",
              "      <td>33967.73</td>\n",
              "    </tr>\n",
              "    <tr>\n",
              "      <th>2</th>\n",
              "      <td>Australia</td>\n",
              "      <td>48516.09</td>\n",
              "    </tr>\n",
              "    <tr>\n",
              "      <th>3</th>\n",
              "      <td>France</td>\n",
              "      <td>51358.23</td>\n",
              "    </tr>\n",
              "    <tr>\n",
              "      <th>4</th>\n",
              "      <td>Spain</td>\n",
              "      <td>83314.60</td>\n",
              "    </tr>\n",
              "    <tr>\n",
              "      <th>5</th>\n",
              "      <td>Finland</td>\n",
              "      <td>116158.76</td>\n",
              "    </tr>\n",
              "    <tr>\n",
              "      <th>6</th>\n",
              "      <td>USA</td>\n",
              "      <td>218320.52</td>\n",
              "    </tr>\n",
              "  </tbody>\n",
              "</table>\n",
              "</div>\n",
              "      <button class=\"colab-df-convert\" onclick=\"convertToInteractive('df-fffa7d96-87ae-4999-8023-87a7d6e5446b')\"\n",
              "              title=\"Convert this dataframe to an interactive table.\"\n",
              "              style=\"display:none;\">\n",
              "        \n",
              "  <svg xmlns=\"http://www.w3.org/2000/svg\" height=\"24px\"viewBox=\"0 0 24 24\"\n",
              "       width=\"24px\">\n",
              "    <path d=\"M0 0h24v24H0V0z\" fill=\"none\"/>\n",
              "    <path d=\"M18.56 5.44l.94 2.06.94-2.06 2.06-.94-2.06-.94-.94-2.06-.94 2.06-2.06.94zm-11 1L8.5 8.5l.94-2.06 2.06-.94-2.06-.94L8.5 2.5l-.94 2.06-2.06.94zm10 10l.94 2.06.94-2.06 2.06-.94-2.06-.94-.94-2.06-.94 2.06-2.06.94z\"/><path d=\"M17.41 7.96l-1.37-1.37c-.4-.4-.92-.59-1.43-.59-.52 0-1.04.2-1.43.59L10.3 9.45l-7.72 7.72c-.78.78-.78 2.05 0 2.83L4 21.41c.39.39.9.59 1.41.59.51 0 1.02-.2 1.41-.59l7.78-7.78 2.81-2.81c.8-.78.8-2.07 0-2.86zM5.41 20L4 18.59l7.72-7.72 1.47 1.35L5.41 20z\"/>\n",
              "  </svg>\n",
              "      </button>\n",
              "      \n",
              "  <style>\n",
              "    .colab-df-container {\n",
              "      display:flex;\n",
              "      flex-wrap:wrap;\n",
              "      gap: 12px;\n",
              "    }\n",
              "\n",
              "    .colab-df-convert {\n",
              "      background-color: #E8F0FE;\n",
              "      border: none;\n",
              "      border-radius: 50%;\n",
              "      cursor: pointer;\n",
              "      display: none;\n",
              "      fill: #1967D2;\n",
              "      height: 32px;\n",
              "      padding: 0 0 0 0;\n",
              "      width: 32px;\n",
              "    }\n",
              "\n",
              "    .colab-df-convert:hover {\n",
              "      background-color: #E2EBFA;\n",
              "      box-shadow: 0px 1px 2px rgba(60, 64, 67, 0.3), 0px 1px 3px 1px rgba(60, 64, 67, 0.15);\n",
              "      fill: #174EA6;\n",
              "    }\n",
              "\n",
              "    [theme=dark] .colab-df-convert {\n",
              "      background-color: #3B4455;\n",
              "      fill: #D2E3FC;\n",
              "    }\n",
              "\n",
              "    [theme=dark] .colab-df-convert:hover {\n",
              "      background-color: #434B5C;\n",
              "      box-shadow: 0px 1px 3px 1px rgba(0, 0, 0, 0.15);\n",
              "      filter: drop-shadow(0px 1px 2px rgba(0, 0, 0, 0.3));\n",
              "      fill: #FFFFFF;\n",
              "    }\n",
              "  </style>\n",
              "\n",
              "      <script>\n",
              "        const buttonEl =\n",
              "          document.querySelector('#df-fffa7d96-87ae-4999-8023-87a7d6e5446b button.colab-df-convert');\n",
              "        buttonEl.style.display =\n",
              "          google.colab.kernel.accessAllowed ? 'block' : 'none';\n",
              "\n",
              "        async function convertToInteractive(key) {\n",
              "          const element = document.querySelector('#df-fffa7d96-87ae-4999-8023-87a7d6e5446b');\n",
              "          const dataTable =\n",
              "            await google.colab.kernel.invokeFunction('convertToInteractive',\n",
              "                                                     [key], {});\n",
              "          if (!dataTable) return;\n",
              "\n",
              "          const docLinkHtml = 'Like what you see? Visit the ' +\n",
              "            '<a target=\"_blank\" href=https://colab.research.google.com/notebooks/data_table.ipynb>data table notebook</a>'\n",
              "            + ' to learn more about interactive tables.';\n",
              "          element.innerHTML = '';\n",
              "          dataTable['output_type'] = 'display_data';\n",
              "          await google.colab.output.renderOutput(dataTable, element);\n",
              "          const docLink = document.createElement('div');\n",
              "          docLink.innerHTML = docLinkHtml;\n",
              "          element.appendChild(docLink);\n",
              "        }\n",
              "      </script>\n",
              "    </div>\n",
              "  </div>\n",
              "  "
            ]
          },
          "metadata": {},
          "execution_count": 98
        }
      ]
    },
    {
      "cell_type": "code",
      "source": [
        "fig, axes = plt.subplots(figsize=(12,8))\n",
        "sns.barplot(data=df_finances_to, x=\"country\", y=\"turnover\", color='blue').set(title='The turnover of the orders of the last two months by country')\n",
        "axes.set_xlabel(\"Countries\")\n",
        "axes.set_ylabel(\"Turnover\")"
      ],
      "metadata": {
        "colab": {
          "base_uri": "https://localhost:8080/",
          "height": 530
        },
        "id": "QxrgMlcNb9T-",
        "outputId": "88525d7e-b96c-4406-b8fd-11f5d2bdbfeb"
      },
      "execution_count": null,
      "outputs": [
        {
          "output_type": "execute_result",
          "data": {
            "text/plain": [
              "Text(0, 0.5, 'Turnover')"
            ]
          },
          "metadata": {},
          "execution_count": 99
        },
        {
          "output_type": "display_data",
          "data": {
            "text/plain": [
              "<Figure size 864x576 with 1 Axes>"
            ],
            "image/png": "[encoded data removed]"
          },
          "metadata": {
            "needs_background": "light"
          }
        }
      ]
    },
    {
      "cell_type": "markdown",
      "source": [
        "##Query Finances: Orders that have not yet been paid"
      ],
      "metadata": {
        "id": "E7O4TQh_WgcZ"
      }
    },
    {
      "cell_type": "code",
      "source": [
        "query_finances_o= '''select o.customernumber, sum(distinct od.quantityordered*od.priceEach) as Total_Amount_Ordered, sum(distinct p.amount) as Total_Amount_Paid, sum(distinct od.quantityordered*od.priceEach) - sum(distinct p.amount) as difference\n",
        "from orderdetails od\n",
        "join orders o on o.ordernumber=od.ordernumber\n",
        "join payments p on p.customernumber=o.customernumber\n",
        "group by customernumber\n",
        "having difference > 0'''"
      ],
      "metadata": {
        "id": "4VO8lB-7W6R3"
      },
      "execution_count": null,
      "outputs": []
    },
    {
      "cell_type": "code",
      "source": [
        "df_finances_o = pd.read_sql(query_finances_o, con=connection)\n",
        "df_finances_o.head(12)"
      ],
      "metadata": {
        "colab": {
          "base_uri": "https://localhost:8080/",
          "height": 426
        },
        "id": "3sSU2_2lW_pz",
        "outputId": "4e21338f-6517-493a-df18-5c3ef89b4c22"
      },
      "execution_count": null,
      "outputs": [
        {
          "output_type": "execute_result",
          "data": {
            "text/plain": [
              "    customernumber  Total_Amount_Ordered  Total_Amount_Paid  difference\n",
              "0              124             488672.89          399345.61    89327.28\n",
              "1              131             149085.15          107639.94    41445.21\n",
              "2              141             609690.58          483605.66   126084.92\n",
              "3              144              66694.82           43680.65    23014.17\n",
              "4              186              95546.46           71943.56    23602.90\n",
              "5              201              69351.78           61167.18     8184.60\n",
              "6              219               7918.60            4465.85     3452.75\n",
              "7              321             118185.21           85559.12    32626.09\n",
              "8              333              55190.16           33757.85    21432.31\n",
              "9              357              57989.42           56662.38     1327.04\n",
              "10             448              92976.99           48809.90    44167.09\n",
              "11             496             107207.04           84243.44    22963.60"
            ],
            "text/html": [
              "\n",
              "  <div id=\"df-10bdba37-c808-41b5-81f9-6d7a6df0c108\">\n",
              "    <div class=\"colab-df-container\">\n",
              "      <div>\n",
              "<style scoped>\n",
              "    .dataframe tbody tr th:only-of-type {\n",
              "        vertical-align: middle;\n",
              "    }\n",
              "\n",
              "    .dataframe tbody tr th {\n",
              "        vertical-align: top;\n",
              "    }\n",
              "\n",
              "    .dataframe thead th {\n",
              "        text-align: right;\n",
              "    }\n",
              "</style>\n",
              "<table border=\"1\" class=\"dataframe\">\n",
              "  <thead>\n",
              "    <tr style=\"text-align: right;\">\n",
              "      <th></th>\n",
              "      <th>customernumber</th>\n",
              "      <th>Total_Amount_Ordered</th>\n",
              "      <th>Total_Amount_Paid</th>\n",
              "      <th>difference</th>\n",
              "    </tr>\n",
              "  </thead>\n",
              "  <tbody>\n",
              "    <tr>\n",
              "      <th>0</th>\n",
              "      <td>124</td>\n",
              "      <td>488672.89</td>\n",
              "      <td>399345.61</td>\n",
              "      <td>89327.28</td>\n",
              "    </tr>\n",
              "    <tr>\n",
              "      <th>1</th>\n",
              "      <td>131</td>\n",
              "      <td>149085.15</td>\n",
              "      <td>107639.94</td>\n",
              "      <td>41445.21</td>\n",
              "    </tr>\n",
              "    <tr>\n",
              "      <th>2</th>\n",
              "      <td>141</td>\n",
              "      <td>609690.58</td>\n",
              "      <td>483605.66</td>\n",
              "      <td>126084.92</td>\n",
              "    </tr>\n",
              "    <tr>\n",
              "      <th>3</th>\n",
              "      <td>144</td>\n",
              "      <td>66694.82</td>\n",
              "      <td>43680.65</td>\n",
              "      <td>23014.17</td>\n",
              "    </tr>\n",
              "    <tr>\n",
              "      <th>4</th>\n",
              "      <td>186</td>\n",
              "      <td>95546.46</td>\n",
              "      <td>71943.56</td>\n",
              "      <td>23602.90</td>\n",
              "    </tr>\n",
              "    <tr>\n",
              "      <th>5</th>\n",
              "      <td>201</td>\n",
              "      <td>69351.78</td>\n",
              "      <td>61167.18</td>\n",
              "      <td>8184.60</td>\n",
              "    </tr>\n",
              "    <tr>\n",
              "      <th>6</th>\n",
              "      <td>219</td>\n",
              "      <td>7918.60</td>\n",
              "      <td>4465.85</td>\n",
              "      <td>3452.75</td>\n",
              "    </tr>\n",
              "    <tr>\n",
              "      <th>7</th>\n",
              "      <td>321</td>\n",
              "      <td>118185.21</td>\n",
              "      <td>85559.12</td>\n",
              "      <td>32626.09</td>\n",
              "    </tr>\n",
              "    <tr>\n",
              "      <th>8</th>\n",
              "      <td>333</td>\n",
              "      <td>55190.16</td>\n",
              "      <td>33757.85</td>\n",
              "      <td>21432.31</td>\n",
              "    </tr>\n",
              "    <tr>\n",
              "      <th>9</th>\n",
              "      <td>357</td>\n",
              "      <td>57989.42</td>\n",
              "      <td>56662.38</td>\n",
              "      <td>1327.04</td>\n",
              "    </tr>\n",
              "    <tr>\n",
              "      <th>10</th>\n",
              "      <td>448</td>\n",
              "      <td>92976.99</td>\n",
              "      <td>48809.90</td>\n",
              "      <td>44167.09</td>\n",
              "    </tr>\n",
              "    <tr>\n",
              "      <th>11</th>\n",
              "      <td>496</td>\n",
              "      <td>107207.04</td>\n",
              "      <td>84243.44</td>\n",
              "      <td>22963.60</td>\n",
              "    </tr>\n",
              "  </tbody>\n",
              "</table>\n",
              "</div>\n",
              "      <button class=\"colab-df-convert\" onclick=\"convertToInteractive('df-10bdba37-c808-41b5-81f9-6d7a6df0c108')\"\n",
              "              title=\"Convert this dataframe to an interactive table.\"\n",
              "              style=\"display:none;\">\n",
              "        \n",
              "  <svg xmlns=\"http://www.w3.org/2000/svg\" height=\"24px\"viewBox=\"0 0 24 24\"\n",
              "       width=\"24px\">\n",
              "    <path d=\"M0 0h24v24H0V0z\" fill=\"none\"/>\n",
              "    <path d=\"M18.56 5.44l.94 2.06.94-2.06 2.06-.94-2.06-.94-.94-2.06-.94 2.06-2.06.94zm-11 1L8.5 8.5l.94-2.06 2.06-.94-2.06-.94L8.5 2.5l-.94 2.06-2.06.94zm10 10l.94 2.06.94-2.06 2.06-.94-2.06-.94-.94-2.06-.94 2.06-2.06.94z\"/><path d=\"M17.41 7.96l-1.37-1.37c-.4-.4-.92-.59-1.43-.59-.52 0-1.04.2-1.43.59L10.3 9.45l-7.72 7.72c-.78.78-.78 2.05 0 2.83L4 21.41c.39.39.9.59 1.41.59.51 0 1.02-.2 1.41-.59l7.78-7.78 2.81-2.81c.8-.78.8-2.07 0-2.86zM5.41 20L4 18.59l7.72-7.72 1.47 1.35L5.41 20z\"/>\n",
              "  </svg>\n",
              "      </button>\n",
              "      \n",
              "  <style>\n",
              "    .colab-df-container {\n",
              "      display:flex;\n",
              "      flex-wrap:wrap;\n",
              "      gap: 12px;\n",
              "    }\n",
              "\n",
              "    .colab-df-convert {\n",
              "      background-color: #E8F0FE;\n",
              "      border: none;\n",
              "      border-radius: 50%;\n",
              "      cursor: pointer;\n",
              "      display: none;\n",
              "      fill: #1967D2;\n",
              "      height: 32px;\n",
              "      padding: 0 0 0 0;\n",
              "      width: 32px;\n",
              "    }\n",
              "\n",
              "    .colab-df-convert:hover {\n",
              "      background-color: #E2EBFA;\n",
              "      box-shadow: 0px 1px 2px rgba(60, 64, 67, 0.3), 0px 1px 3px 1px rgba(60, 64, 67, 0.15);\n",
              "      fill: #174EA6;\n",
              "    }\n",
              "\n",
              "    [theme=dark] .colab-df-convert {\n",
              "      background-color: #3B4455;\n",
              "      fill: #D2E3FC;\n",
              "    }\n",
              "\n",
              "    [theme=dark] .colab-df-convert:hover {\n",
              "      background-color: #434B5C;\n",
              "      box-shadow: 0px 1px 3px 1px rgba(0, 0, 0, 0.15);\n",
              "      filter: drop-shadow(0px 1px 2px rgba(0, 0, 0, 0.3));\n",
              "      fill: #FFFFFF;\n",
              "    }\n",
              "  </style>\n",
              "\n",
              "      <script>\n",
              "        const buttonEl =\n",
              "          document.querySelector('#df-10bdba37-c808-41b5-81f9-6d7a6df0c108 button.colab-df-convert');\n",
              "        buttonEl.style.display =\n",
              "          google.colab.kernel.accessAllowed ? 'block' : 'none';\n",
              "\n",
              "        async function convertToInteractive(key) {\n",
              "          const element = document.querySelector('#df-10bdba37-c808-41b5-81f9-6d7a6df0c108');\n",
              "          const dataTable =\n",
              "            await google.colab.kernel.invokeFunction('convertToInteractive',\n",
              "                                                     [key], {});\n",
              "          if (!dataTable) return;\n",
              "\n",
              "          const docLinkHtml = 'Like what you see? Visit the ' +\n",
              "            '<a target=\"_blank\" href=https://colab.research.google.com/notebooks/data_table.ipynb>data table notebook</a>'\n",
              "            + ' to learn more about interactive tables.';\n",
              "          element.innerHTML = '';\n",
              "          dataTable['output_type'] = 'display_data';\n",
              "          await google.colab.output.renderOutput(dataTable, element);\n",
              "          const docLink = document.createElement('div');\n",
              "          docLink.innerHTML = docLinkHtml;\n",
              "          element.appendChild(docLink);\n",
              "        }\n",
              "      </script>\n",
              "    </div>\n",
              "  </div>\n",
              "  "
            ]
          },
          "metadata": {},
          "execution_count": 101
        }
      ]
    },
    {
      "cell_type": "code",
      "source": [
        "fig, axes = plt.subplots(figsize=(12,8))\n",
        "sns.barplot(data=df_finances_o, x=\"customernumber\", y=\"difference\", order=df_finances_o.sort_values('difference').customernumber, color='blue').set(title='Orders that have not yet been paid')\n",
        "axes.set_xlabel(\"Customer Number\")\n",
        "axes.set_ylabel(\"Difference\")"
      ],
      "metadata": {
        "colab": {
          "base_uri": "https://localhost:8080/",
          "height": 530
        },
        "id": "BKWOrStVa5xP",
        "outputId": "f4421fb6-13ed-4ba1-a19d-0c80f7af0b74"
      },
      "execution_count": null,
      "outputs": [
        {
          "output_type": "execute_result",
          "data": {
            "text/plain": [
              "Text(0, 0.5, 'Difference')"
            ]
          },
          "metadata": {},
          "execution_count": 102
        },
        {
          "output_type": "display_data",
          "data": {
            "text/plain": [
              "<Figure size 864x576 with 1 Axes>"
            ],
            "image/png": "[encoded data removed]"
          },
          "metadata": {
            "needs_background": "light"
          }
        }
      ]
    },
    {
      "cell_type": "markdown",
      "source": [
        "## Query Logistics: The stock of the 5 most ordered products"
      ],
      "metadata": {
        "id": "pb80zOkVXN1C"
      }
    },
    {
      "cell_type": "code",
      "source": [
        "query_logistics= '''select p.productname, sum(od.quantityordered) as sumOrdered, p.quantityinstock from products p join orderdetails od on p.productcode=od.productCode\n",
        "group by p.productname\n",
        "order by sumOrdered desc\n",
        "limit 5'''"
      ],
      "metadata": {
        "id": "tleLGqL5XScU"
      },
      "execution_count": null,
      "outputs": []
    },
    {
      "cell_type": "code",
      "source": [
        "df_logistics = pd.read_sql(query_logistics, con=connection)\n",
        "df_logistics.head(5)"
      ],
      "metadata": {
        "colab": {
          "base_uri": "https://localhost:8080/",
          "height": 206
        },
        "id": "WwJSzPaLXhtS",
        "outputId": "dd0b9d8d-e56d-4175-fad0-377428ab0461"
      },
      "execution_count": null,
      "outputs": [
        {
          "output_type": "execute_result",
          "data": {
            "text/plain": [
              "                   productname  sumOrdered  quantityinstock\n",
              "0  1992 Ferrari 360 Spider red      1561.0              835\n",
              "1         1937 Lincoln Berline       960.0              869\n",
              "2            2001 Ferrari Enzo       950.0              362\n",
              "3  1913 Ford Model T Speedster       949.0              419\n",
              "4             1940s Ford truck       947.0              313"
            ],
            "text/html": [
              "\n",
              "  <div id=\"df-5050c20c-a0e2-47fa-bb0e-abba9c613916\">\n",
              "    <div class=\"colab-df-container\">\n",
              "      <div>\n",
              "<style scoped>\n",
              "    .dataframe tbody tr th:only-of-type {\n",
              "        vertical-align: middle;\n",
              "    }\n",
              "\n",
              "    .dataframe tbody tr th {\n",
              "        vertical-align: top;\n",
              "    }\n",
              "\n",
              "    .dataframe thead th {\n",
              "        text-align: right;\n",
              "    }\n",
              "</style>\n",
              "<table border=\"1\" class=\"dataframe\">\n",
              "  <thead>\n",
              "    <tr style=\"text-align: right;\">\n",
              "      <th></th>\n",
              "      <th>productname</th>\n",
              "      <th>sumOrdered</th>\n",
              "      <th>quantityinstock</th>\n",
              "    </tr>\n",
              "  </thead>\n",
              "  <tbody>\n",
              "    <tr>\n",
              "      <th>0</th>\n",
              "      <td>1992 Ferrari 360 Spider red</td>\n",
              "      <td>1561.0</td>\n",
              "      <td>835</td>\n",
              "    </tr>\n",
              "    <tr>\n",
              "      <th>1</th>\n",
              "      <td>1937 Lincoln Berline</td>\n",
              "      <td>960.0</td>\n",
              "      <td>869</td>\n",
              "    </tr>\n",
              "    <tr>\n",
              "      <th>2</th>\n",
              "      <td>2001 Ferrari Enzo</td>\n",
              "      <td>950.0</td>\n",
              "      <td>362</td>\n",
              "    </tr>\n",
              "    <tr>\n",
              "      <th>3</th>\n",
              "      <td>1913 Ford Model T Speedster</td>\n",
              "      <td>949.0</td>\n",
              "      <td>419</td>\n",
              "    </tr>\n",
              "    <tr>\n",
              "      <th>4</th>\n",
              "      <td>1940s Ford truck</td>\n",
              "      <td>947.0</td>\n",
              "      <td>313</td>\n",
              "    </tr>\n",
              "  </tbody>\n",
              "</table>\n",
              "</div>\n",
              "      <button class=\"colab-df-convert\" onclick=\"convertToInteractive('df-5050c20c-a0e2-47fa-bb0e-abba9c613916')\"\n",
              "              title=\"Convert this dataframe to an interactive table.\"\n",
              "              style=\"display:none;\">\n",
              "        \n",
              "  <svg xmlns=\"http://www.w3.org/2000/svg\" height=\"24px\"viewBox=\"0 0 24 24\"\n",
              "       width=\"24px\">\n",
              "    <path d=\"M0 0h24v24H0V0z\" fill=\"none\"/>\n",
              "    <path d=\"M18.56 5.44l.94 2.06.94-2.06 2.06-.94-2.06-.94-.94-2.06-.94 2.06-2.06.94zm-11 1L8.5 8.5l.94-2.06 2.06-.94-2.06-.94L8.5 2.5l-.94 2.06-2.06.94zm10 10l.94 2.06.94-2.06 2.06-.94-2.06-.94-.94-2.06-.94 2.06-2.06.94z\"/><path d=\"M17.41 7.96l-1.37-1.37c-.4-.4-.92-.59-1.43-.59-.52 0-1.04.2-1.43.59L10.3 9.45l-7.72 7.72c-.78.78-.78 2.05 0 2.83L4 21.41c.39.39.9.59 1.41.59.51 0 1.02-.2 1.41-.59l7.78-7.78 2.81-2.81c.8-.78.8-2.07 0-2.86zM5.41 20L4 18.59l7.72-7.72 1.47 1.35L5.41 20z\"/>\n",
              "  </svg>\n",
              "      </button>\n",
              "      \n",
              "  <style>\n",
              "    .colab-df-container {\n",
              "      display:flex;\n",
              "      flex-wrap:wrap;\n",
              "      gap: 12px;\n",
              "    }\n",
              "\n",
              "    .colab-df-convert {\n",
              "      background-color: #E8F0FE;\n",
              "      border: none;\n",
              "      border-radius: 50%;\n",
              "      cursor: pointer;\n",
              "      display: none;\n",
              "      fill: #1967D2;\n",
              "      height: 32px;\n",
              "      padding: 0 0 0 0;\n",
              "      width: 32px;\n",
              "    }\n",
              "\n",
              "    .colab-df-convert:hover {\n",
              "      background-color: #E2EBFA;\n",
              "      box-shadow: 0px 1px 2px rgba(60, 64, 67, 0.3), 0px 1px 3px 1px rgba(60, 64, 67, 0.15);\n",
              "      fill: #174EA6;\n",
              "    }\n",
              "\n",
              "    [theme=dark] .colab-df-convert {\n",
              "      background-color: #3B4455;\n",
              "      fill: #D2E3FC;\n",
              "    }\n",
              "\n",
              "    [theme=dark] .colab-df-convert:hover {\n",
              "      background-color: #434B5C;\n",
              "      box-shadow: 0px 1px 3px 1px rgba(0, 0, 0, 0.15);\n",
              "      filter: drop-shadow(0px 1px 2px rgba(0, 0, 0, 0.3));\n",
              "      fill: #FFFFFF;\n",
              "    }\n",
              "  </style>\n",
              "\n",
              "      <script>\n",
              "        const buttonEl =\n",
              "          document.querySelector('#df-5050c20c-a0e2-47fa-bb0e-abba9c613916 button.colab-df-convert');\n",
              "        buttonEl.style.display =\n",
              "          google.colab.kernel.accessAllowed ? 'block' : 'none';\n",
              "\n",
              "        async function convertToInteractive(key) {\n",
              "          const element = document.querySelector('#df-5050c20c-a0e2-47fa-bb0e-abba9c613916');\n",
              "          const dataTable =\n",
              "            await google.colab.kernel.invokeFunction('convertToInteractive',\n",
              "                                                     [key], {});\n",
              "          if (!dataTable) return;\n",
              "\n",
              "          const docLinkHtml = 'Like what you see? Visit the ' +\n",
              "            '<a target=\"_blank\" href=https://colab.research.google.com/notebooks/data_table.ipynb>data table notebook</a>'\n",
              "            + ' to learn more about interactive tables.';\n",
              "          element.innerHTML = '';\n",
              "          dataTable['output_type'] = 'display_data';\n",
              "          await google.colab.output.renderOutput(dataTable, element);\n",
              "          const docLink = document.createElement('div');\n",
              "          docLink.innerHTML = docLinkHtml;\n",
              "          element.appendChild(docLink);\n",
              "        }\n",
              "      </script>\n",
              "    </div>\n",
              "  </div>\n",
              "  "
            ]
          },
          "metadata": {},
          "execution_count": 104
        }
      ]
    },
    {
      "cell_type": "code",
      "source": [
        "fig, axes = plt.subplots(figsize=(12,8))\n",
        "sns.barplot(data=df_logistics, x=\"productname\", y=\"quantityinstock\", order=df_logistics.sort_values('quantityinstock').productname, color='blue').set(title='The stock of the 5 most ordered products')\n",
        "axes.set_xlabel(\"Product name\")\n",
        "axes.set_ylabel(\"# quantity in stock\")"
      ],
      "metadata": {
        "id": "mAW3RyU_pBqi",
        "colab": {
          "base_uri": "https://localhost:8080/",
          "height": 530
        },
        "outputId": "a53eee39-36a7-4d50-b5f8-1329e0936538"
      },
      "execution_count": null,
      "outputs": [
        {
          "output_type": "execute_result",
          "data": {
            "text/plain": [
              "Text(0, 0.5, '# quantity in stock')"
            ]
          },
          "metadata": {},
          "execution_count": 105
        },
        {
          "output_type": "display_data",
          "data": {
            "text/plain": [
              "<Figure size 864x576 with 1 Axes>"
            ],
            "image/png": "[encoded data removed]"
          },
          "metadata": {
            "needs_background": "light"
          }
        }
      ]
    },
    {
      "cell_type": "markdown",
      "source": [
        "##Query Human Resources: Each month, the 2 sellers with the highest turnover"
      ],
      "metadata": {
        "id": "8OGlwmcLXuLD"
      }
    },
    {
      "cell_type": "code",
      "source": [
        "# query_hr= '''WITH top_sellers AS (select e.employeeNumber, e.firstname, jobTitle, e.lastname, month(o.orderdate) as DateOrd, year(o.orderdate) as YearOrd, sum(od.quantityordered*od.priceeach) as highest_turnover,\n",
        "# RANK() OVER (PARTITION BY DateOrd ORDER BY highest_turnover DESC) sell_rank from employees e\n",
        "# join customers c on e.employeeNumber=c.salesRepEmployeeNumber\n",
        "# join orders o on c.customerNumber=o.customerNumber\n",
        "# join orderdetails od on o.orderNumber=od.orderNumber\n",
        "# WHERE jobTitle like 'Sales Rep%' and o.status <> 'Cancelled'\n",
        "# Group by DateOrd, employeeNumber\n",
        "# Order by DateOrd, highest_turnover DESC)\n",
        "# select * from top_sellers\n",
        "# where sell_rank=1 or sell_rank=2;'''\n",
        "\n",
        "\n",
        "query_hr= '''WITH top_sellers AS (select e.employeeNumber, e.firstname, jobTitle, e.lastname, DATE_FORMAT(o.orderdate, \"%c %Y\") as DateOrd, year(o.orderdate) as YearOrd, sum(od.quantityordered*od.priceeach) as highest_turnover,\n",
        "RANK() OVER (PARTITION BY DateOrd ORDER BY highest_turnover DESC) sell_rank from employees e\n",
        "join customers c on e.employeeNumber=c.salesRepEmployeeNumber\n",
        "join orders o on c.customerNumber=o.customerNumber\n",
        "join orderdetails od on o.orderNumber=od.orderNumber\n",
        "WHERE jobTitle like 'Sales Rep%' and o.status <> 'Cancelled'\n",
        "Group by DateOrd, employeeNumber\n",
        "Order by DateOrd, highest_turnover DESC)\n",
        "select * from top_sellers\n",
        "where sell_rank=1 or sell_rank=2;'''\n"
      ],
      "metadata": {
        "id": "WMfX0UyYXyCW"
      },
      "execution_count": null,
      "outputs": []
    },
    {
      "cell_type": "code",
      "source": [
        "df_hr = pd.read_sql(query_hr, con=connection)\n",
        "df_hr.head(53)\n",
        "df_hr = df_hr[df_hr['YearOrd'] == 2021]\n",
        "print(df_hr)"
      ],
      "metadata": {
        "colab": {
          "base_uri": "https://localhost:8080/"
        },
        "id": "_v1Y1l4cu2Mn",
        "outputId": "d9c9d9ae-3064-48de-a74b-d465a614296f"
      },
      "execution_count": null,
      "outputs": [
        {
          "output_type": "stream",
          "name": "stdout",
          "text": [
            "    employeeNumber firstname   jobTitle   lastname  DateOrd  YearOrd  \\\n",
            "0             1165    Leslie  Sales Rep   Jennings   1 2021     2021   \n",
            "1             1612     Peter  Sales Rep      Marsh   1 2021     2021   \n",
            "6             1370    Gerard  Sales Rep  Hernandez  10 2021     2021   \n",
            "7             1286  Foon Yue  Sales Rep      Tseng  10 2021     2021   \n",
            "10            1165    Leslie  Sales Rep   Jennings  11 2021     2021   \n",
            "11            1612     Peter  Sales Rep      Marsh  11 2021     2021   \n",
            "14            1612     Peter  Sales Rep      Marsh  12 2021     2021   \n",
            "15            1323    George  Sales Rep     Vanauf  12 2021     2021   \n",
            "16            1165    Leslie  Sales Rep   Jennings   2 2021     2021   \n",
            "17            1166    Leslie  Sales Rep   Thompson   2 2021     2021   \n",
            "20            1611      Andy  Sales Rep     Fixter   3 2021     2021   \n",
            "21            1370    Gerard  Sales Rep  Hernandez   3 2021     2021   \n",
            "24            1165    Leslie  Sales Rep   Jennings   4 2021     2021   \n",
            "25            1401    Pamela  Sales Rep   Castillo   4 2021     2021   \n",
            "28            1370    Gerard  Sales Rep  Hernandez   5 2021     2021   \n",
            "29            1702    Martin  Sales Rep     Gerard   5 2021     2021   \n",
            "32            1188     Julie  Sales Rep   Firrelli   6 2021     2021   \n",
            "33            1337      Loui  Sales Rep     Bondur   6 2021     2021   \n",
            "38            1370    Gerard  Sales Rep  Hernandez   7 2021     2021   \n",
            "39            1166    Leslie  Sales Rep   Thompson   7 2021     2021   \n",
            "44            1166    Leslie  Sales Rep   Thompson   8 2021     2021   \n",
            "45            1702    Martin  Sales Rep     Gerard   8 2021     2021   \n",
            "50            1165    Leslie  Sales Rep   Jennings   9 2021     2021   \n",
            "51            1323    George  Sales Rep     Vanauf   9 2021     2021   \n",
            "\n",
            "    highest_turnover  sell_rank  \n",
            "0           38675.13          1  \n",
            "1           32077.44          2  \n",
            "6           62225.17          1  \n",
            "7           56521.75          2  \n",
            "10          42798.08          1  \n",
            "11          37281.36          2  \n",
            "14          44160.92          1  \n",
            "15          42044.77          2  \n",
            "16          56052.56          1  \n",
            "17          50342.74          2  \n",
            "20          51376.05          1  \n",
            "21          44939.85          2  \n",
            "24         136302.77          1  \n",
            "25          81032.62          2  \n",
            "28         140445.70          1  \n",
            "29         119415.26          2  \n",
            "32          59265.14          1  \n",
            "33          49614.72          2  \n",
            "38          65589.97          1  \n",
            "39          57124.16          2  \n",
            "44          80375.24          1  \n",
            "45          47375.92          2  \n",
            "50          43369.30          1  \n",
            "51          42362.46          2  \n"
          ]
        }
      ]
    },
    {
      "cell_type": "code",
      "source": [
        "fig, axes = plt.subplots(figsize=(20,8))\n",
        "sns.barplot(data=df_hr, x=\"DateOrd\", y=\"highest_turnover\", hue=\"sell_rank\", ci=None).set(title='Top 2 sellers with the highest turnover')\n",
        "# sns.barplot(data=df_hr, x=\"DateOrd\", y=\"highest_turnover\", hue=\"firstname\", ci=None).set(title='Top 2 sellers with the highest turnover')\n",
        "axes.set_xlabel(\"Month\")\n",
        "axes.set_ylabel(\"Turnover\")\n",
        "axes.legend(title=\"Sell Rank: \")"
      ],
      "metadata": {
        "colab": {
          "base_uri": "https://localhost:8080/",
          "height": 530
        },
        "id": "JsLzKjw4u8FA",
        "outputId": "995ad2f9-4c2f-43c9-b18b-b02e04b960e9"
      },
      "execution_count": null,
      "outputs": [
        {
          "output_type": "execute_result",
          "data": {
            "text/plain": [
              "<matplotlib.legend.Legend at 0x7f33d851af90>"
            ]
          },
          "metadata": {},
          "execution_count": 145
        },
        {
          "output_type": "display_data",
          "data": {
            "text/plain": [
              "<Figure size 1440x576 with 1 Axes>"
            ],
            "image/png": "[encoded data removed]"
          },
          "metadata": {
            "needs_background": "light"
          }
        }
      ]
    },
    {
      "cell_type": "code",
      "source": [
        "type(df_hr['DateOrd'])"
      ],
      "metadata": {
        "colab": {
          "base_uri": "https://localhost:8080/"
        },
        "id": "VL5l-Ls35cA7",
        "outputId": "0d2ede99-3972-4c62-a56a-3c5aa2a138ba"
      },
      "execution_count": null,
      "outputs": [
        {
          "output_type": "execute_result",
          "data": {
            "text/plain": [
              "pandas.core.series.Series"
            ]
          },
          "metadata": {},
          "execution_count": 149
        }
      ]
    },
    {
      "cell_type": "code",
      "source": [
        "# fig, axes = plt.subplots(figsize=(10,8))\n",
        "# ax=sns.barplot(data=df_hr, x=\"DateOrd\", y=\"highest_turnover\", hue=\"sell_rank\", ci=None).set(title='Top 2 sellers with the highest turnover')\n",
        "# # sns.barplot(data=df_hr, x=\"DateOrd\", y=\"highest_turnover\", hue=\"firstname\", ci=None).set(title='Top 2 sellers with the highest turnover')\n",
        "# axes.set_xlabel(\"Month\")\n",
        "# axes.set_ylabel(\"Turnover\")\n",
        "# axes.legend(title=\"Sell Rank: \")\n",
        "# for i in ax.containers:\n",
        "#     ax.bar_label(i,)"
      ],
      "metadata": {
        "id": "oH3tp0BivvIc"
      },
      "execution_count": null,
      "outputs": []
    }
  ]
}